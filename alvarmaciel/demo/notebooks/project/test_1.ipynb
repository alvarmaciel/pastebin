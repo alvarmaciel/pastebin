{
 "cells": [
  {
   "cell_type": "markdown",
   "id": "19a7769b-3b29-4e4c-864a-e8696868434f",
   "metadata": {},
   "source": [
    "# This is a test"
   ]
  },
  {
   "cell_type": "code",
   "execution_count": null,
   "id": "8d57cc6a-c267-44e3-9e75-40c1120fa370",
   "metadata": {},
   "outputs": [],
   "source": [
    "import this"
   ]
  }
 ],
 "metadata": {
  "kernelspec": {
   "display_name": "Python 3 (ipykernel)",
   "language": "python",
   "name": "python3"
  },
  "language_info": {
   "codemirror_mode": {
    "name": "ipython",
    "version": 3
   },
   "file_extension": ".py",
   "mimetype": "text/x-python",
   "name": "python",
   "nbconvert_exporter": "python",
   "pygments_lexer": "ipython3",
   "version": "3.11.2"
  }
 },
 "nbformat": 4,
 "nbformat_minor": 5
}
